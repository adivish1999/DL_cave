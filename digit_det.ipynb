{
  "nbformat": 4,
  "nbformat_minor": 0,
  "metadata": {
    "colab": {
      "name": "digit_det.ipynb",
      "provenance": [],
      "collapsed_sections": []
    },
    "kernelspec": {
      "name": "python3",
      "display_name": "Python 3"
    }
  },
  "cells": [
    {
      "cell_type": "code",
      "metadata": {
        "id": "ztRyIbSjetHg",
        "colab_type": "code",
        "colab": {}
      },
      "source": [
        "import tensorflow as tf\n",
        "import numpy as np\n",
        "from matplotlib import pyplot as plt\n",
        "import pandas as pd\n",
        "from google.colab.patches import cv2_imshow\n",
        "import cv2\n",
        "from os import path, getcwd, chdir\n",
        "from PIL import Image\n",
        "import PIL\n",
        "from mlxtend.data import loadlocal_mnist\n",
        "from tensorflow.keras.preprocessing.image import ImageDataGenerator\n",
        "import os"
      ],
      "execution_count": 0,
      "outputs": []
    },
    {
      "cell_type": "code",
      "metadata": {
        "id": "oZdPBbd9VivF",
        "colab_type": "code",
        "colab": {}
      },
      "source": [
        "model = tf.keras.Sequential(\n",
        "       [tf.keras.layers.Conv2D(32,3,activation = 'relu',input_shape = (28,28,1)),\n",
        "        tf.keras.layers.MaxPool2D((2,2)),\n",
        "        tf.keras.layers.Conv2D(64,3,activation = 'relu',padding='valid'),\n",
        "        tf.keras.layers.Conv2D(128,3,activation = 'relu'),\n",
        "        tf.keras.layers.Dropout(0.2),\n",
        "        tf.keras.layers.Flatten(),\n",
        "        tf.keras.layers.Dense(128,activation = tf.nn.relu),\n",
        "        tf.keras.layers.Dropout(0.2),\n",
        "        tf.keras.layers.Dense(10,activation = tf.nn.softmax)]\n",
        ")\n",
        "\n"
      ],
      "execution_count": 0,
      "outputs": []
    },
    {
      "cell_type": "code",
      "metadata": {
        "id": "3Ob7FqU0zAyI",
        "colab_type": "code",
        "colab": {
          "base_uri": "https://localhost:8080/",
          "height": 478
        },
        "outputId": "1d3bd046-1a50-4c72-ce36-532ea90da3f6"
      },
      "source": [
        "model.summary()"
      ],
      "execution_count": 49,
      "outputs": [
        {
          "output_type": "stream",
          "text": [
            "Model: \"sequential_2\"\n",
            "_________________________________________________________________\n",
            "Layer (type)                 Output Shape              Param #   \n",
            "=================================================================\n",
            "conv2d_6 (Conv2D)            (None, 26, 26, 32)        320       \n",
            "_________________________________________________________________\n",
            "max_pooling2d_2 (MaxPooling2 (None, 13, 13, 32)        0         \n",
            "_________________________________________________________________\n",
            "conv2d_7 (Conv2D)            (None, 11, 11, 64)        18496     \n",
            "_________________________________________________________________\n",
            "conv2d_8 (Conv2D)            (None, 9, 9, 128)         73856     \n",
            "_________________________________________________________________\n",
            "dropout_4 (Dropout)          (None, 9, 9, 128)         0         \n",
            "_________________________________________________________________\n",
            "flatten_2 (Flatten)          (None, 10368)             0         \n",
            "_________________________________________________________________\n",
            "dense_4 (Dense)              (None, 128)               1327232   \n",
            "_________________________________________________________________\n",
            "dropout_5 (Dropout)          (None, 128)               0         \n",
            "_________________________________________________________________\n",
            "dense_5 (Dense)              (None, 10)                1290      \n",
            "=================================================================\n",
            "Total params: 1,421,194\n",
            "Trainable params: 1,421,194\n",
            "Non-trainable params: 0\n",
            "_________________________________________________________________\n"
          ],
          "name": "stdout"
        }
      ]
    },
    {
      "cell_type": "code",
      "metadata": {
        "id": "7sEF0LWQWU-R",
        "colab_type": "code",
        "colab": {}
      },
      "source": [
        "model.compile(optimizer='adam',\n",
        "                  loss='sparse_categorical_crossentropy',\n",
        "                  metrics=['accuracy'])"
      ],
      "execution_count": 0,
      "outputs": []
    },
    {
      "cell_type": "code",
      "metadata": {
        "id": "zLh22GHqjKQr",
        "colab_type": "code",
        "colab": {}
      },
      "source": [
        "def load_img(img_path):  #function to load any image for predictions\n",
        "  img5 = Image.open(img_path).convert('L')\n",
        "  np_5 = np.asarray(img5)\n",
        "  img5 = img5.resize((28,28))\n",
        "  np_5 = np.array(img5)\n",
        "  np_5 = 255 -np_5\n",
        "  for i in range(28):\n",
        "    for j in range(28):\n",
        "      if np_5[i,j] < 255/2:\n",
        "        np_5[i,j] = 0\n",
        "      else:\n",
        "       np_5[i,j]-=50\n",
        "  np_5 = np_5.reshape(1,28,28,1)\n",
        "  return np_5       \n",
        "#print(np_5)"
      ],
      "execution_count": 0,
      "outputs": []
    },
    {
      "cell_type": "code",
      "metadata": {
        "id": "qq_MEnh7xykU",
        "colab_type": "code",
        "colab": {}
      },
      "source": [
        "x,y = loadlocal_mnist(\n",
        "        images_path='/content/train-images.idx3-ubyte', \n",
        "        labels_path='/content/train-labels.idx1-ubyte')"
      ],
      "execution_count": 0,
      "outputs": []
    },
    {
      "cell_type": "code",
      "metadata": {
        "id": "AtUryiaJPo1O",
        "colab_type": "code",
        "colab": {}
      },
      "source": [
        "x_val,y_val = loadlocal_mnist(\n",
        "        images_path='/content/t10k-images.idx3-ubyte', \n",
        "        labels_path='/content/t10k-labels.idx1-ubyte')"
      ],
      "execution_count": 0,
      "outputs": []
    },
    {
      "cell_type": "code",
      "metadata": {
        "id": "x_VE07KIP34J",
        "colab_type": "code",
        "colab": {}
      },
      "source": [
        "yv = y_val[0:5000]   #Validation set\n",
        "xv = mk_data(x_val[0:5000])"
      ],
      "execution_count": 0,
      "outputs": []
    },
    {
      "cell_type": "code",
      "metadata": {
        "id": "_RjBnl8uay1b",
        "colab_type": "code",
        "colab": {}
      },
      "source": [
        "xt = mk_data(x_val[5000:10000]) #Test set\n",
        "yt = y_val[5000:10000]"
      ],
      "execution_count": 0,
      "outputs": []
    },
    {
      "cell_type": "code",
      "metadata": {
        "id": "w9JD32HGz_dX",
        "colab_type": "code",
        "outputId": "990558ad-33d4-4704-c249-cebd073ec6b3",
        "colab": {
          "base_uri": "https://localhost:8080/",
          "height": 34
        }
      },
      "source": [
        "print(x.shape)"
      ],
      "execution_count": 0,
      "outputs": [
        {
          "output_type": "stream",
          "text": [
            "(60000, 784)\n"
          ],
          "name": "stdout"
        }
      ]
    },
    {
      "cell_type": "code",
      "metadata": {
        "id": "Qy2dfy5b0ECe",
        "colab_type": "code",
        "colab": {}
      },
      "source": [
        "def mk_data(dig_x): #Function to make data model compatible\n",
        " dig_img_np = np.zeros(shape = [dig_x.shape[0],28,28,1]) \n",
        " for i in range(dig_x.shape[0]):\n",
        "   a = dig_x[i]\n",
        "   a = a.reshape([28,28])\n",
        "   dig_img_np[i,:,:,0] = a/255.0\n",
        " return dig_img_np"
      ],
      "execution_count": 0,
      "outputs": []
    },
    {
      "cell_type": "code",
      "metadata": {
        "id": "fOenizrr1QyZ",
        "colab_type": "code",
        "outputId": "8651fc1f-d8ce-4767-b009-9bd00fafe2bf",
        "colab": {
          "base_uri": "https://localhost:8080/",
          "height": 300
        }
      },
      "source": [
        "xtrain = mk_data(x)\n",
        "print(xtrain.shape)\n",
        "plt.imshow(xtrain[5,:,:,0])"
      ],
      "execution_count": 48,
      "outputs": [
        {
          "output_type": "stream",
          "text": [
            "(60000, 28, 28, 1)\n"
          ],
          "name": "stdout"
        },
        {
          "output_type": "execute_result",
          "data": {
            "text/plain": [
              "<matplotlib.image.AxesImage at 0x7f3726eb7cc0>"
            ]
          },
          "metadata": {
            "tags": []
          },
          "execution_count": 48
        },
        {
          "output_type": "display_data",
          "data": {
            "image/png": "[encoded data removed]",
            "text/plain": [
              "<Figure size 432x288 with 1 Axes>"
            ]
          },
          "metadata": {
            "tags": [],
            "needs_background": "light"
          }
        }
      ]
    },
    {
      "cell_type": "code",
      "metadata": {
        "id": "e2O-cEYmVpn8",
        "colab_type": "code",
        "colab": {}
      },
      "source": [
        "dataGen= ImageDataGenerator(width_shift_range=0.1,   \n",
        "                            height_shift_range=0.1,\n",
        "                            zoom_range=0.2,  \n",
        "                            shear_range=0.1, \n",
        "                            rotation_range=10)  \n",
        "dataGen.fit(xtrain)"
      ],
      "execution_count": 0,
      "outputs": []
    },
    {
      "cell_type": "code",
      "metadata": {
        "id": "bQEaGYJJbWVp",
        "colab_type": "code",
        "outputId": "d65384c8-1941-4533-ad17-98d5132b31c3",
        "colab": {
          "base_uri": "https://localhost:8080/",
          "height": 194
        }
      },
      "source": [
        "dig_det = model.fit(dataGen.flow(xtrain,y,batch_size=56), epochs = 5,validation_data = (xv,yv), verbose = 2)"
      ],
      "execution_count": 40,
      "outputs": [
        {
          "output_type": "stream",
          "text": [
            "Epoch 1/5\n",
            "1072/1072 - 119s - loss: 0.2591 - accuracy: 0.9180 - val_loss: 17.8713 - val_accuracy: 0.9618\n",
            "Epoch 2/5\n",
            "1072/1072 - 119s - loss: 0.0960 - accuracy: 0.9719 - val_loss: 9.7846 - val_accuracy: 0.9802\n",
            "Epoch 3/5\n",
            "1072/1072 - 117s - loss: 0.0730 - accuracy: 0.9780 - val_loss: 5.3798 - val_accuracy: 0.9906\n",
            "Epoch 4/5\n",
            "1072/1072 - 117s - loss: 0.0606 - accuracy: 0.9812 - val_loss: 12.0411 - val_accuracy: 0.9784\n",
            "Epoch 5/5\n",
            "1072/1072 - 117s - loss: 0.0547 - accuracy: 0.9832 - val_loss: 5.1321 - val_accuracy: 0.9878\n"
          ],
          "name": "stdout"
        }
      ]
    },
    {
      "cell_type": "code",
      "metadata": {
        "id": "klXgVoF3im23",
        "colab_type": "code",
        "colab": {}
      },
      "source": [
        "print(x_test.shape)"
      ],
      "execution_count": 0,
      "outputs": []
    },
    {
      "cell_type": "code",
      "metadata": {
        "id": "YucaTvICirGc",
        "colab_type": "code",
        "colab": {}
      },
      "source": [
        "x_test = x_test.reshape((10000,28,28,1))"
      ],
      "execution_count": 0,
      "outputs": []
    },
    {
      "cell_type": "code",
      "metadata": {
        "id": "uke_Xtv8jBeF",
        "colab_type": "code",
        "outputId": "5ba2b75d-2e60-4e3b-c8d1-43090bce09ef",
        "colab": {
          "base_uri": "https://localhost:8080/",
          "height": 34
        }
      },
      "source": [
        "print(dig_det)\n",
        "acc = dig_det.history['accuracy']\n",
        "val_acc = dig_det.history['val_accuracy']\n",
        "loss = dig_det.history['loss']\n",
        "val_loss = dig_det.history['val_loss']\n",
        "\n",
        "epochs = range(len(acc))"
      ],
      "execution_count": 41,
      "outputs": [
        {
          "output_type": "stream",
          "text": [
            "<tensorflow.python.keras.callbacks.History object at 0x7f3728988550>\n"
          ],
          "name": "stdout"
        }
      ]
    },
    {
      "cell_type": "code",
      "metadata": {
        "id": "_lhSPxKAbjiw",
        "colab_type": "code",
        "outputId": "349540f4-eb90-4160-fc70-f0a09697886d",
        "colab": {
          "base_uri": "https://localhost:8080/",
          "height": 298
        }
      },
      "source": [
        "plt.plot(epochs, acc, 'bo', label='Training accuracy')\n",
        "plt.plot(epochs, val_acc, 'b', label='Validation accuracy')\n",
        "plt.title('Training and validation accuracy')\n",
        "plt.figure()\n",
        "plt.show()"
      ],
      "execution_count": 42,
      "outputs": [
        {
          "output_type": "display_data",
          "data": {
            "image/png": "[encoded data removed]",
            "text/plain": [
              "<Figure size 432x288 with 1 Axes>"
            ]
          },
          "metadata": {
            "tags": [],
            "needs_background": "light"
          }
        },
        {
          "output_type": "display_data",
          "data": {
            "text/plain": [
              "<Figure size 432x288 with 0 Axes>"
            ]
          },
          "metadata": {
            "tags": []
          }
        }
      ]
    },
    {
      "cell_type": "code",
      "metadata": {
        "id": "ZYGgCrQTi8vE",
        "colab_type": "code",
        "outputId": "3024a1e2-9bef-45e1-e4af-67cae0219194",
        "colab": {
          "base_uri": "https://localhost:8080/",
          "height": 70
        }
      },
      "source": [
        "loss,acc = model.evaluate(xt,yt)\n",
        "\n",
        "print(loss)\n",
        "print(acc*100)"
      ],
      "execution_count": 43,
      "outputs": [
        {
          "output_type": "stream",
          "text": [
            "157/157 [==============================] - 3s 17ms/step - loss: 2.2488 - accuracy: 0.9938\n",
            "2.2488155364990234\n",
            "99.37999844551086\n"
          ],
          "name": "stdout"
        }
      ]
    },
    {
      "cell_type": "code",
      "metadata": {
        "id": "V9VpRGrlmgis",
        "colab_type": "code",
        "colab": {}
      },
      "source": [
        "model.save('dig_detv2.h5')"
      ],
      "execution_count": 0,
      "outputs": []
    },
    {
      "cell_type": "code",
      "metadata": {
        "id": "jo4PTnczk1gR",
        "colab_type": "code",
        "outputId": "a2bc4afd-762d-4e37-8c55-c3f07515fb9c",
        "colab": {
          "base_uri": "https://localhost:8080/",
          "height": 70
        }
      },
      "source": [
        "model = tf.keras.models.load_model('/content/dig_detv2.h5')\n",
        "loss,acc = model.evaluate(xt,yt)\n",
        "\n",
        "print(loss)\n",
        "print(acc*100)"
      ],
      "execution_count": 51,
      "outputs": [
        {
          "output_type": "stream",
          "text": [
            "157/157 [==============================] - 3s 16ms/step - loss: 2.2488 - accuracy: 0.9938\n",
            "2.2488155364990234\n",
            "99.37999844551086\n"
          ],
          "name": "stdout"
        }
      ]
    },
    {
      "cell_type": "code",
      "metadata": {
        "id": "OZ6lQE1HzSWM",
        "colab_type": "code",
        "colab": {}
      },
      "source": [
        "#Making predictions\n",
        "img_path = #path of the image you wanna load.\n",
        "print(np.argmax((model.predict(load_img(img_path)))))"
      ],
      "execution_count": 0,
      "outputs": []
    }
  ]
}